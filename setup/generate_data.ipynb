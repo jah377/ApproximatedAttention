{
 "cells": [
  {
   "cell_type": "code",
   "execution_count": 1,
   "metadata": {},
   "outputs": [
    {
     "name": "stderr",
     "output_type": "stream",
     "text": [
      "/home/jharris/Desktop/approx_attention/venvs/CPU_venv/lib/python3.9/site-packages/tqdm/auto.py:22: TqdmWarning: IProgress not found. Please update jupyter and ipywidgets. See https://ipywidgets.readthedocs.io/en/stable/user_install.html\n",
      "  from .autonotebook import tqdm as notebook_tqdm\n",
      "Using backend: pytorch\n"
     ]
    },
    {
     "name": "stdout",
     "output_type": "stream",
     "text": [
      "Directory '/home/jharris/Desktop/approx_attention/setup/data' created\n"
     ]
    }
   ],
   "source": [
    "import os\n",
    "import os.path as osp\n",
    "\n",
    "import torch\n",
    "import torch_geometric.transforms as T\n",
    "from torch_geometric.datasets import Planetoid\n",
    "\n",
    "from ogb.nodeproppred import PygNodePropPredDataset\n",
    "\n",
    "\n",
    "def prep_data(dataset_name:str, K:int):\n",
    "    \"\"\" standardize format of data object \"\"\"\n",
    "    possible_datasets = ['cora', 'pubmed', 'products', 'arxiv']\n",
    "    dataset_name = dataset_name.lower()\n",
    "    assert dataset_name in possible_datasets, f'Dataset {dataset_name} not available'\n",
    "\n",
    "    # download data \n",
    "    if dataset_name=='arixv':\n",
    "        transform = T.Compose([\n",
    "            # T.NormalizeFeatures(),\n",
    "            T.ToUndirected(),\n",
    "            T.AddSelfLoops(),\n",
    "            T.SIGN(K)\n",
    "        ])\n",
    "    else:\n",
    "        transform = T.Compose([\n",
    "            # T.NormalizeFeatures(),\n",
    "            T.SIGN(K)\n",
    "        ])\n",
    "\n",
    "    if dataset_name in ['arxiv','products']:\n",
    "        dataset = PygNodePropPredDataset(\n",
    "            f'ogbn-{dataset_name}',\n",
    "            root=path,\n",
    "            transform=transform\n",
    "            )\n",
    "    else:\n",
    "        dataset = Planetoid(\n",
    "            root=path,\n",
    "            name=dataset_name.title(),\n",
    "            transform=transform,\n",
    "            split='full'\n",
    "            )\n",
    "\n",
    "    # extract relevant information\n",
    "    data = dataset[0]\n",
    "    data.dataset_name = dataset_name.lower()\n",
    "    data.num_nodes, data.num_feats = data.x.shape\n",
    "    data.num_classes = dataset.num_classes\n",
    "    data.n_id = torch.arange(data.num_nodes)  # global node id\n",
    "\n",
    "    # standardize idx max\n",
    "    if hasattr(dataset, 'get_idx_split'):\n",
    "        masks = dataset.get_idx_split()\n",
    "        data.train_mask = masks['train']\n",
    "        data.val_mask = masks['valid']\n",
    "        data.test_mask = masks['test']\n",
    "        data.y = data.y.flatten()\n",
    "    else:\n",
    "        data.train_mask = torch.where(data.train_mask)[0]\n",
    "        data.val_mask = torch.where(data.val_mask)[0]\n",
    "        data.test_mask = torch.where(data.test_mask)[0]\n",
    "    return data\n",
    "\n",
    "\n",
    "# create directory\n",
    "folder_path = osp.join(os.getcwd(), 'data')\n",
    "\n",
    "if not osp.exists(folder_path):\n",
    "    os.makedirs(folder_path)\n",
    "    print(\"Directory '% s' created\" % folder_path)\n"
   ]
  },
  {
   "cell_type": "code",
   "execution_count": 2,
   "metadata": {},
   "outputs": [
    {
     "name": "stderr",
     "output_type": "stream",
     "text": [
      "Downloading https://github.com/kimiyoung/planetoid/raw/master/data/ind.cora.x\n",
      "Downloading https://github.com/kimiyoung/planetoid/raw/master/data/ind.cora.tx\n",
      "Downloading https://github.com/kimiyoung/planetoid/raw/master/data/ind.cora.allx\n",
      "Downloading https://github.com/kimiyoung/planetoid/raw/master/data/ind.cora.y\n",
      "Downloading https://github.com/kimiyoung/planetoid/raw/master/data/ind.cora.ty\n",
      "Downloading https://github.com/kimiyoung/planetoid/raw/master/data/ind.cora.ally\n",
      "Downloading https://github.com/kimiyoung/planetoid/raw/master/data/ind.cora.graph\n",
      "Downloading https://github.com/kimiyoung/planetoid/raw/master/data/ind.cora.test.index\n",
      "Processing...\n",
      "Done!\n"
     ]
    }
   ],
   "source": [
    "DATASET = 'cora'\n",
    "\n",
    "path = osp.join(folder_path, DATASET)\n",
    "\n",
    "if not osp.exists(path):\n",
    "    os.makedirs(path)\n",
    "\n",
    "K = 5\n",
    "data = prep_data(DATASET, K)\n",
    "\n",
    "for i in range(K,-1,-1):\n",
    "    filename = osp.join(path, f'{DATASET}_sign_k{i}.pth')\n",
    "    torch.save(data, filename)\n",
    "    del data[f'x{i}']\n",
    "del data \n"
   ]
  },
  {
   "cell_type": "code",
   "execution_count": 3,
   "metadata": {},
   "outputs": [
    {
     "name": "stderr",
     "output_type": "stream",
     "text": [
      "Downloading https://github.com/kimiyoung/planetoid/raw/master/data/ind.pubmed.x\n",
      "Downloading https://github.com/kimiyoung/planetoid/raw/master/data/ind.pubmed.tx\n",
      "Downloading https://github.com/kimiyoung/planetoid/raw/master/data/ind.pubmed.allx\n",
      "Downloading https://github.com/kimiyoung/planetoid/raw/master/data/ind.pubmed.y\n",
      "Downloading https://github.com/kimiyoung/planetoid/raw/master/data/ind.pubmed.ty\n",
      "Downloading https://github.com/kimiyoung/planetoid/raw/master/data/ind.pubmed.ally\n",
      "Downloading https://github.com/kimiyoung/planetoid/raw/master/data/ind.pubmed.graph\n",
      "Downloading https://github.com/kimiyoung/planetoid/raw/master/data/ind.pubmed.test.index\n",
      "Processing...\n",
      "Done!\n"
     ]
    }
   ],
   "source": [
    "DATASET = 'pubmed'\n",
    "\n",
    "path = osp.join(folder_path, DATASET)\n",
    "\n",
    "if not osp.exists(path):\n",
    "    os.makedirs(path)\n",
    "\n",
    "K = 5\n",
    "data = prep_data(DATASET, K)\n",
    "\n",
    "for i in range(K,-1,-1):\n",
    "    filename = osp.join(path, f'{DATASET}_sign_k{i}.pth')\n",
    "    torch.save(data, filename)\n",
    "    del data[f'x{i}']\n",
    "del data \n"
   ]
  },
  {
   "cell_type": "code",
   "execution_count": 4,
   "metadata": {},
   "outputs": [
    {
     "name": "stdout",
     "output_type": "stream",
     "text": [
      "Downloading http://snap.stanford.edu/ogb/data/nodeproppred/arxiv.zip\n"
     ]
    },
    {
     "name": "stderr",
     "output_type": "stream",
     "text": [
      "Downloaded 0.08 GB: 100%|██████████| 81/81 [00:07<00:00, 11.52it/s]\n"
     ]
    },
    {
     "name": "stdout",
     "output_type": "stream",
     "text": [
      "Extracting /home/jharris/Desktop/approx_attention/setup/data/arxiv/arxiv.zip\n"
     ]
    },
    {
     "name": "stderr",
     "output_type": "stream",
     "text": [
      "Processing...\n"
     ]
    },
    {
     "name": "stdout",
     "output_type": "stream",
     "text": [
      "Loading necessary files...\n",
      "This might take a while.\n",
      "Processing graphs...\n"
     ]
    },
    {
     "name": "stderr",
     "output_type": "stream",
     "text": [
      "100%|██████████| 1/1 [00:00<00:00, 13486.51it/s]\n"
     ]
    },
    {
     "name": "stdout",
     "output_type": "stream",
     "text": [
      "Converting graphs into PyG objects...\n"
     ]
    },
    {
     "name": "stderr",
     "output_type": "stream",
     "text": [
      "100%|██████████| 1/1 [00:00<00:00, 4056.39it/s]"
     ]
    },
    {
     "name": "stdout",
     "output_type": "stream",
     "text": [
      "Saving...\n"
     ]
    },
    {
     "name": "stderr",
     "output_type": "stream",
     "text": [
      "\n",
      "Done!\n"
     ]
    }
   ],
   "source": [
    "DATASET = 'arxiv'\n",
    "\n",
    "path = osp.join(folder_path, DATASET)\n",
    "\n",
    "if not osp.exists(path):\n",
    "    os.makedirs(path)\n",
    "\n",
    "K = 5\n",
    "data = prep_data(DATASET, K)\n",
    "\n",
    "for i in range(K,-1,-1):\n",
    "    filename = osp.join(path, f'{DATASET}_sign_k{i}.pth')\n",
    "    torch.save(data, filename)\n",
    "    del data[f'x{i}']\n",
    "del data \n"
   ]
  },
  {
   "cell_type": "code",
   "execution_count": null,
   "metadata": {},
   "outputs": [
    {
     "name": "stdout",
     "output_type": "stream",
     "text": [
      "Downloading http://snap.stanford.edu/ogb/data/nodeproppred/products.zip\n"
     ]
    },
    {
     "name": "stderr",
     "output_type": "stream",
     "text": [
      "Downloaded 1.38 GB: 100%|██████████| 1414/1414 [01:21<00:00, 17.27it/s]\n"
     ]
    },
    {
     "name": "stdout",
     "output_type": "stream",
     "text": [
      "Extracting /home/jharris/Desktop/approx_attention/setup/data/products/products.zip\n"
     ]
    },
    {
     "name": "stderr",
     "output_type": "stream",
     "text": [
      "Processing...\n"
     ]
    },
    {
     "name": "stdout",
     "output_type": "stream",
     "text": [
      "Loading necessary files...\n",
      "This might take a while.\n",
      "Processing graphs...\n"
     ]
    },
    {
     "name": "stderr",
     "output_type": "stream",
     "text": [
      "100%|██████████| 1/1 [00:02<00:00,  2.05s/it]\n"
     ]
    },
    {
     "name": "stdout",
     "output_type": "stream",
     "text": [
      "Converting graphs into PyG objects...\n"
     ]
    },
    {
     "name": "stderr",
     "output_type": "stream",
     "text": [
      "100%|██████████| 1/1 [00:00<00:00, 3851.52it/s]\n"
     ]
    },
    {
     "name": "stdout",
     "output_type": "stream",
     "text": [
      "Saving...\n"
     ]
    },
    {
     "name": "stderr",
     "output_type": "stream",
     "text": [
      "Done!\n"
     ]
    },
    {
     "name": "stdout",
     "output_type": "stream",
     "text": [
      "/home/jharris/Desktop/approx_attention/setup/data/products/products_sign_k5.pth\n",
      "/home/jharris/Desktop/approx_attention/setup/data/products/products_sign_k4.pth\n",
      "/home/jharris/Desktop/approx_attention/setup/data/products/products_sign_k3.pth\n",
      "/home/jharris/Desktop/approx_attention/setup/data/products/products_sign_k2.pth\n",
      "/home/jharris/Desktop/approx_attention/setup/data/products/products_sign_k1.pth\n",
      "/home/jharris/Desktop/approx_attention/setup/data/products/products_sign_k0.pth\n"
     ]
    },
    {
     "ename": "",
     "evalue": "",
     "output_type": "error",
     "traceback": [
      "\u001b[1;31mThe Kernel crashed while executing code in the the current cell or a previous cell. Please review the code in the cell(s) to identify a possible cause of the failure. Click <a href='https://aka.ms/vscodeJupyterKernelCrash'>here</a> for more info. View Jupyter <a href='command:jupyter.viewOutput'>log</a> for further details."
     ]
    }
   ],
   "source": [
    "DATASET = 'products'\n",
    "\n",
    "path = osp.join(folder_path, DATASET)\n",
    "\n",
    "if not osp.exists(path):\n",
    "    os.makedirs(path)\n",
    "\n",
    "K = 5\n",
    "data = prep_data(DATASET, K)\n",
    "\n",
    "for i in range(K, -1, -1):\n",
    "    filename = osp.join(path, f'{DATASET}_sign_k{i}.pth')\n",
    "    torch.save(data, filename)\n",
    "    print(filename)\n",
    "    del data[f'x{i}']\n",
    "del data\n"
   ]
  },
  {
   "cell_type": "code",
   "execution_count": null,
   "metadata": {},
   "outputs": [
    {
     "name": "stderr",
     "output_type": "stream",
     "text": [
      "/home/jharris/Desktop/approx_attention/venvs/CPU_venv/lib/python3.9/site-packages/tqdm/auto.py:22: TqdmWarning: IProgress not found. Please update jupyter and ipywidgets. See https://ipywidgets.readthedocs.io/en/stable/user_install.html\n",
      "  from .autonotebook import tqdm as notebook_tqdm\n"
     ]
    },
    {
     "data": {
      "text/plain": [
       "Data(num_nodes=2449029, edge_index=[2, 123718280], y=[2449029], x1=[2449029, 100], x2=[2449029, 100], x3=[2449029, 100], x4=[2449029, 100], x5=[2449029, 100], x0=[2449029, 100], dataset_name='products', num_feats=100, num_classes=47, n_id=[2449029], train_mask=[196615], val_mask=[39323], test_mask=[2213091])"
      ]
     },
     "execution_count": 1,
     "metadata": {},
     "output_type": "execute_result"
    }
   ],
   "source": [
    "import torch \n",
    "torch.load('/home/jharris/Desktop/approx_attention/setup/data/products/products_sign_k5.pth')"
   ]
  },
  {
   "cell_type": "code",
   "execution_count": null,
   "metadata": {},
   "outputs": [],
   "source": []
  }
 ],
 "metadata": {
  "interpreter": {
   "hash": "677f2394079a7e8b3a41116e0563f7f6e6b4c638366ce750dc9b1c63938d42b1"
  },
  "kernelspec": {
   "display_name": "Python 3.9.7 ('CPU_venv': venv)",
   "language": "python",
   "name": "python3"
  },
  "language_info": {
   "codemirror_mode": {
    "name": "ipython",
    "version": 3
   },
   "file_extension": ".py",
   "mimetype": "text/x-python",
   "name": "python",
   "nbconvert_exporter": "python",
   "pygments_lexer": "ipython3",
   "version": "3.9.7"
  },
  "orig_nbformat": 4
 },
 "nbformat": 4,
 "nbformat_minor": 2
}
