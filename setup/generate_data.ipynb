{
 "cells": [
  {
   "cell_type": "code",
   "execution_count": null,
   "metadata": {},
   "outputs": [],
   "source": [
    "import os\n",
    "import os.path as osp\n",
    "\n",
    "import torch\n",
    "import torch_geometric.transforms as T\n",
    "from torch_geometric.datasets import Planetoid\n",
    "\n",
    "from ogb.nodeproppred import PygNodePropPredDataset\n",
    "\n",
    "\n",
    "def prep_data(dataset_name:str, K:int):\n",
    "    \"\"\" standardize format of data object \"\"\"\n",
    "    possible_datasets = ['cora', 'pubmed', 'products', 'arxiv']\n",
    "    dataset_name = dataset_name.lower()\n",
    "    assert dataset_name in possible_datasets, f'Dataset {dataset_name} not available'\n",
    "\n",
    "    # download data \n",
    "    if dataset_name=='arixv':\n",
    "        transform = T.Compose([\n",
    "            T.NormalizeFeatures(),\n",
    "            T.ToUndirected(),\n",
    "            T.AddSelfLoops(),\n",
    "            T.SIGN(K)\n",
    "        ])\n",
    "    else:\n",
    "        transform = T.Compose([\n",
    "            T.NormalizeFeatures(),\n",
    "            T.SIGN(K)\n",
    "        ])\n",
    "\n",
    "    if dataset_name in ['arxiv','products']:\n",
    "        dataset = PygNodePropPredDataset(\n",
    "            f'ogbn-{dataset_name}',\n",
    "            root=path,\n",
    "            transform=transform\n",
    "            )\n",
    "    else:\n",
    "        dataset = Planetoid(\n",
    "            root=path,\n",
    "            name=dataset_name.title(),\n",
    "            transform=transform,\n",
    "            split='full'\n",
    "            )\n",
    "\n",
    "    # extract relevant information\n",
    "    data = dataset[0]\n",
    "    data.dataset_name = dataset_name.lower()\n",
    "    data.num_classes = dataset.num_classes\n",
    "    data.n_id = torch.arange(data.num_nodes)  # global node id\n",
    "\n",
    "    # standardize mask -- node idx, not bool mask\n",
    "    if hasattr(dataset, 'get_idx_split'):\n",
    "        masks = dataset.get_idx_split()\n",
    "        data.train_mask = masks['train']\n",
    "        data.val_mask = masks['valid']\n",
    "        data.test_mask = masks['test']\n",
    "\n",
    "        data.y = data.y.flatten()\n",
    "    else:\n",
    "        data.train_mask = torch.where(data.train_mask)[0]\n",
    "        data.val_mask = torch.where(data.val_mask)[0]\n",
    "        data.test_mask = torch.where(data.test_mask)[0]\n",
    "\n",
    "    return data\n",
    "\n",
    "\n",
    "# create directory\n",
    "folder_path = osp.join(os.getcwd(), 'data')\n",
    "\n",
    "if not osp.exists(folder_path):\n",
    "    os.makedirs(folder_path)\n",
    "    print(\"Directory '% s' created\" % folder_path)\n"
   ]
  },
  {
   "cell_type": "code",
   "execution_count": null,
   "metadata": {},
   "outputs": [],
   "source": [
    "DATASET = 'cora'\n",
    "\n",
    "path = osp.join(folder_path, DATASET)\n",
    "\n",
    "if not osp.exists(path):\n",
    "    os.makedirs(path)\n",
    "\n",
    "K = 5\n",
    "data = prep_data(DATASET, K)\n",
    "\n",
    "for i in range(K,-1,-1):\n",
    "    filename = osp.join(path, f'{DATASET}_sign_k{i}.pth')\n",
    "    torch.save(data, filename)\n",
    "    del data[f'x{i}']\n",
    "del data \n"
   ]
  },
  {
   "cell_type": "code",
   "execution_count": null,
   "metadata": {},
   "outputs": [],
   "source": [
    "DATASET = 'pubmed'\n",
    "\n",
    "path = osp.join(folder_path, DATASET)\n",
    "\n",
    "if not osp.exists(path):\n",
    "    os.makedirs(path)\n",
    "\n",
    "K = 5\n",
    "data = prep_data(DATASET, K)\n",
    "\n",
    "for i in range(K,-1,-1):\n",
    "    filename = osp.join(path, f'{DATASET}_sign_k{i}.pth')\n",
    "    torch.save(data, filename)\n",
    "    del data[f'x{i}']\n",
    "del data \n"
   ]
  },
  {
   "cell_type": "code",
   "execution_count": null,
   "metadata": {},
   "outputs": [],
   "source": [
    "DATASET = 'arxiv'\n",
    "\n",
    "path = osp.join(folder_path, DATASET)\n",
    "\n",
    "if not osp.exists(path):\n",
    "    os.makedirs(path)\n",
    "\n",
    "K = 5\n",
    "data = prep_data(DATASET, K)\n",
    "\n",
    "for i in range(K,-1,-1):\n",
    "    filename = osp.join(path, f'{DATASET}_sign_k{i}.pth')\n",
    "    torch.save(data, filename)\n",
    "    del data[f'x{i}']\n",
    "del data \n"
   ]
  },
  {
   "cell_type": "code",
   "execution_count": null,
   "metadata": {},
   "outputs": [],
   "source": [
    "DATASET = 'products'\n",
    "\n",
    "path = osp.join(folder_path, DATASET)\n",
    "\n",
    "if not osp.exists(path):\n",
    "    os.makedirs(path)\n",
    "\n",
    "K = 5\n",
    "data = prep_data(DATASET, K)\n",
    "\n",
    "for i in range(K, -1, -1):\n",
    "    filename = osp.join(path, f'{DATASET}_sign_k{i}.pth')\n",
    "    torch.save(data, filename)\n",
    "    del data[f'x{i}']\n",
    "del data\n"
   ]
  },
  {
   "cell_type": "code",
   "execution_count": null,
   "metadata": {},
   "outputs": [],
   "source": [
    "data = torch.load('data/products/products_sign_k6.pth')"
   ]
  },
  {
   "cell_type": "code",
   "execution_count": null,
   "metadata": {},
   "outputs": [],
   "source": [
    "print(data.num_nodes)\n",
    "print(data.num_edges)\n",
    "print(data.num_node_features)"
   ]
  },
  {
   "cell_type": "code",
   "execution_count": null,
   "metadata": {},
   "outputs": [],
   "source": []
  }
 ],
 "metadata": {
  "interpreter": {
   "hash": "677f2394079a7e8b3a41116e0563f7f6e6b4c638366ce750dc9b1c63938d42b1"
  },
  "kernelspec": {
   "display_name": "Python 3.9.7 ('CPU_venv': venv)",
   "language": "python",
   "name": "python3"
  },
  "language_info": {
   "codemirror_mode": {
    "name": "ipython",
    "version": 3
   },
   "file_extension": ".py",
   "mimetype": "text/x-python",
   "name": "python",
   "nbconvert_exporter": "python",
   "pygments_lexer": "ipython3",
   "version": "3.9.7"
  },
  "orig_nbformat": 4
 },
 "nbformat": 4,
 "nbformat_minor": 2
}
