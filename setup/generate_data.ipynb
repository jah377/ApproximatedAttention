{
 "cells": [
  {
   "cell_type": "code",
   "execution_count": 1,
   "metadata": {},
   "outputs": [
    {
     "name": "stderr",
     "output_type": "stream",
     "text": [
      "/home/jharris/Desktop/approx_attention/venvs/CPU_venv/lib/python3.9/site-packages/tqdm/auto.py:22: TqdmWarning: IProgress not found. Please update jupyter and ipywidgets. See https://ipywidgets.readthedocs.io/en/stable/user_install.html\n",
      "  from .autonotebook import tqdm as notebook_tqdm\n"
     ]
    }
   ],
   "source": [
    "import os\n",
    "import os.path as osp\n",
    "\n",
    "import torch\n",
    "import torch_geometric.transforms as T\n",
    "from torch_geometric.datasets import Planetoid\n",
    "\n",
    "from ogb.nodeproppred import PygNodePropPredDataset\n",
    "\n",
    "\n",
    "# create directory\n",
    "folder_path = osp.join(os.getcwd(), 'data')\n",
    "\n",
    "if not osp.exists(folder_path):\n",
    "    os.makedirs(folder_path)\n",
    "    print(\"Directory '% s' created\" % folder_path)\n"
   ]
  },
  {
   "cell_type": "code",
   "execution_count": 4,
   "metadata": {},
   "outputs": [
    {
     "name": "stderr",
     "output_type": "stream",
     "text": [
      "Downloading https://github.com/kimiyoung/planetoid/raw/master/data/ind.cora.x\n",
      "Downloading https://github.com/kimiyoung/planetoid/raw/master/data/ind.cora.tx\n",
      "Downloading https://github.com/kimiyoung/planetoid/raw/master/data/ind.cora.allx\n",
      "Downloading https://github.com/kimiyoung/planetoid/raw/master/data/ind.cora.y\n",
      "Downloading https://github.com/kimiyoung/planetoid/raw/master/data/ind.cora.ty\n",
      "Downloading https://github.com/kimiyoung/planetoid/raw/master/data/ind.cora.ally\n",
      "Downloading https://github.com/kimiyoung/planetoid/raw/master/data/ind.cora.graph\n",
      "Downloading https://github.com/kimiyoung/planetoid/raw/master/data/ind.cora.test.index\n",
      "Processing...\n",
      "Done!\n"
     ]
    }
   ],
   "source": [
    "path = osp.join(folder_path, 'cora')\n",
    "\n",
    "if not osp.exists(path):\n",
    "    os.makedirs(path)\n",
    "\n",
    "for K in range(6):\n",
    "\n",
    "    transform = T.Compose([\n",
    "        T.NormalizeFeatures(),\n",
    "        T.ToUndirected(),\n",
    "        T.AddSelfLoops(),\n",
    "        T.SIGN(K)\n",
    "    ])\n",
    "\n",
    "    # download\n",
    "    dataset = Planetoid(\n",
    "        root=path,\n",
    "        name='Cora',\n",
    "        transform=transform,\n",
    "        split='full',\n",
    "    )\n",
    "\n",
    "    filename = osp.join(path, f'cora_sign_k{K}.pth')\n",
    "    torch.save(dataset, filename)\n",
    "\n",
    "\n"
   ]
  },
  {
   "cell_type": "code",
   "execution_count": 4,
   "metadata": {},
   "outputs": [
    {
     "name": "stderr",
     "output_type": "stream",
     "text": [
      "Downloading https://github.com/kimiyoung/planetoid/raw/master/data/ind.pubmed.x\n",
      "Downloading https://github.com/kimiyoung/planetoid/raw/master/data/ind.pubmed.tx\n",
      "Downloading https://github.com/kimiyoung/planetoid/raw/master/data/ind.pubmed.allx\n",
      "Downloading https://github.com/kimiyoung/planetoid/raw/master/data/ind.pubmed.y\n",
      "Downloading https://github.com/kimiyoung/planetoid/raw/master/data/ind.pubmed.ty\n",
      "Downloading https://github.com/kimiyoung/planetoid/raw/master/data/ind.pubmed.ally\n",
      "Downloading https://github.com/kimiyoung/planetoid/raw/master/data/ind.pubmed.graph\n",
      "Downloading https://github.com/kimiyoung/planetoid/raw/master/data/ind.pubmed.test.index\n",
      "Processing...\n",
      "Done!\n"
     ]
    }
   ],
   "source": [
    "path = osp.join(folder_path, 'pubmed')\n",
    "\n",
    "if not osp.exists(path):\n",
    "    os.makedirs(path)\n",
    "\n",
    "for K in range(6):\n",
    "\n",
    "    transform = T.Compose([\n",
    "        T.NormalizeFeatures(),\n",
    "        T.ToUndirected(),\n",
    "        T.AddSelfLoops(),\n",
    "        T.SIGN(K)\n",
    "    ])\n",
    "\n",
    "    # download\n",
    "    dataset = Planetoid(\n",
    "        root=path,\n",
    "        name='Pubmed',\n",
    "        transform=transform,\n",
    "        split='full',\n",
    "    )\n",
    "\n",
    "    filename = osp.join(path, f'pubmed_sign_k{K}.pth')\n",
    "    torch.save(dataset, filename)\n"
   ]
  },
  {
   "cell_type": "code",
   "execution_count": 5,
   "metadata": {},
   "outputs": [
    {
     "name": "stdout",
     "output_type": "stream",
     "text": [
      "Downloading http://snap.stanford.edu/ogb/data/nodeproppred/arxiv.zip\n"
     ]
    },
    {
     "name": "stderr",
     "output_type": "stream",
     "text": [
      "Downloaded 0.08 GB: 100%|██████████| 81/81 [00:07<00:00, 11.33it/s]\n"
     ]
    },
    {
     "name": "stdout",
     "output_type": "stream",
     "text": [
      "Extracting /home/jharris/Desktop/approx_attention/setup/data/arxiv/arxiv.zip\n"
     ]
    },
    {
     "name": "stderr",
     "output_type": "stream",
     "text": [
      "Processing...\n"
     ]
    },
    {
     "name": "stdout",
     "output_type": "stream",
     "text": [
      "Loading necessary files...\n",
      "This might take a while.\n",
      "Processing graphs...\n"
     ]
    },
    {
     "name": "stderr",
     "output_type": "stream",
     "text": [
      "100%|██████████| 1/1 [00:00<00:00, 14266.34it/s]\n"
     ]
    },
    {
     "name": "stdout",
     "output_type": "stream",
     "text": [
      "Converting graphs into PyG objects...\n"
     ]
    },
    {
     "name": "stderr",
     "output_type": "stream",
     "text": [
      "100%|██████████| 1/1 [00:00<00:00, 4798.97it/s]"
     ]
    },
    {
     "name": "stdout",
     "output_type": "stream",
     "text": [
      "Saving...\n"
     ]
    },
    {
     "name": "stderr",
     "output_type": "stream",
     "text": [
      "\n",
      "Done!\n"
     ]
    }
   ],
   "source": [
    "path = osp.join(folder_path, 'arxiv')\n",
    "\n",
    "if not osp.exists(path):\n",
    "    os.makedirs(path)\n",
    "\n",
    "for K in range(6):\n",
    "\n",
    "    transform = T.Compose([\n",
    "        T.NormalizeFeatures(),\n",
    "        T.ToUndirected(),\n",
    "        T.AddSelfLoops(),\n",
    "        T.SIGN(K)\n",
    "    ])\n",
    "\n",
    "    # download\n",
    "    dataset = PygNodePropPredDataset(\n",
    "        'ogbn-arxiv',\n",
    "        root=path,\n",
    "        transform=transform)\n",
    "\n",
    "    filename = osp.join(path, f'arxiv_sign_k{K}.pth')\n",
    "    torch.save(dataset, filename)\n",
    "    del transform, dataset\n"
   ]
  },
  {
   "cell_type": "code",
   "execution_count": 6,
   "metadata": {},
   "outputs": [
    {
     "name": "stdout",
     "output_type": "stream",
     "text": [
      "Downloading http://snap.stanford.edu/ogb/data/nodeproppred/products.zip\n"
     ]
    },
    {
     "name": "stderr",
     "output_type": "stream",
     "text": [
      "Downloaded 1.38 GB: 100%|██████████| 1414/1414 [07:57<00:00,  2.96it/s]\n"
     ]
    },
    {
     "name": "stdout",
     "output_type": "stream",
     "text": [
      "Extracting /home/jharris/Desktop/approx_attention/setup/data/products/products.zip\n"
     ]
    },
    {
     "name": "stderr",
     "output_type": "stream",
     "text": [
      "Processing...\n"
     ]
    },
    {
     "name": "stdout",
     "output_type": "stream",
     "text": [
      "Loading necessary files...\n",
      "This might take a while.\n",
      "Processing graphs...\n"
     ]
    },
    {
     "name": "stderr",
     "output_type": "stream",
     "text": [
      "100%|██████████| 1/1 [00:02<00:00,  2.05s/it]\n"
     ]
    },
    {
     "name": "stdout",
     "output_type": "stream",
     "text": [
      "Converting graphs into PyG objects...\n"
     ]
    },
    {
     "name": "stderr",
     "output_type": "stream",
     "text": [
      "100%|██████████| 1/1 [00:00<00:00, 4500.33it/s]\n"
     ]
    },
    {
     "name": "stdout",
     "output_type": "stream",
     "text": [
      "Saving...\n"
     ]
    },
    {
     "name": "stderr",
     "output_type": "stream",
     "text": [
      "Done!\n"
     ]
    }
   ],
   "source": [
    "path = osp.join(folder_path, 'products')\n",
    "\n",
    "if not osp.exists(path):\n",
    "    os.makedirs(path)\n",
    "\n",
    "for K in range(6):\n",
    "\n",
    "    transform = T.Compose([\n",
    "        T.NormalizeFeatures(),\n",
    "        T.ToUndirected(),\n",
    "        T.AddSelfLoops(),\n",
    "        T.SIGN(K)\n",
    "    ])\n",
    "\n",
    "    # download\n",
    "    dataset = PygNodePropPredDataset(\n",
    "        'ogbn-products',\n",
    "        root=path,\n",
    "        transform=transform)\n",
    "\n",
    "    filename = osp.join(path, f'products_sign_k{K}.pth')\n",
    "    torch.save(dataset, filename)\n",
    "    del transform, dataset\n"
   ]
  },
  {
   "cell_type": "code",
   "execution_count": 9,
   "metadata": {},
   "outputs": [],
   "source": [
    "def standardize_data(dataset, data_name: str):\n",
    "    \"\"\" standardize format of data object \"\"\"\n",
    "\n",
    "    possible_datasets = ['cora', 'pubmed', 'products', 'arxiv']\n",
    "    assert data_name.lower() in possible_datasets\n",
    "\n",
    "    # extract relevant information\n",
    "    data = dataset[0]\n",
    "    data.dataset_name = data_name.lower()\n",
    "    data.num_classes = dataset.num_classes\n",
    "    data.num_nodes = data.num_nodes\n",
    "    data.num_edges = data.num_edges\n",
    "    data.num_node_features = data.num_node_features\n",
    "    data.n_id = torch.arange(data.num_nodes)  # global node id\n",
    "\n",
    "    # standardize mask -- node idx, not bool mask\n",
    "    if hasattr(dataset, 'get_idx_split'):\n",
    "        masks = dataset.get_idx_split()\n",
    "        data.train_mask = masks['train']\n",
    "        data.val_mask = masks['valid']\n",
    "        data.test_mask = masks['test']\n",
    "\n",
    "        data.y = data.y.flatten()\n",
    "    else:\n",
    "        data.train_mask = torch.where(data.train_mask)[0]\n",
    "        data.val_mask = torch.where(data.val_mask)[0]\n",
    "        data.test_mask = torch.where(data.test_mask)[0]\n",
    "\n",
    "    return data\n"
   ]
  },
  {
   "cell_type": "code",
   "execution_count": 11,
   "metadata": {},
   "outputs": [],
   "source": [
    "path = osp.join(folder_path, 'arxiv')\n",
    "\n",
    "if not osp.exists(path):\n",
    "    os.makedirs(path)\n",
    "\n",
    "for name in ['arxiv','products']:\n",
    "\n",
    "    dataset = PygNodePropPredDataset(\n",
    "        f'ogbn-{name}',\n",
    "        root=path)\n",
    "\n",
    "    filename = osp.join(path, f'{name}.pth')\n",
    "    torch.save(standardize_data(dataset, name), filename)\n",
    "    del dataset"
   ]
  },
  {
   "cell_type": "code",
   "execution_count": 12,
   "metadata": {},
   "outputs": [],
   "source": [
    "def transform_data(data, dataset, K):\n",
    "    \"\"\" SIGN transform \"\"\"\n",
    "\n",
    "    if dataset == 'arxiv':\n",
    "        t_list = [\n",
    "            T.NormalizeFeatures(),\n",
    "            T.ToUndirected(),\n",
    "            T.AddSelfLoops(),\n",
    "            T.SIGN(K)\n",
    "        ]\n",
    "    else:\n",
    "        t_list = [\n",
    "            T.NormalizeFeatures(),\n",
    "            T.ToUndirected(),\n",
    "            T.AddSelfLoops(),\n",
    "            T.SIGN(K)\n",
    "        ]\n",
    "\n",
    "    return T.Compose(t_list)(data)"
   ]
  },
  {
   "cell_type": "code",
   "execution_count": 13,
   "metadata": {},
   "outputs": [],
   "source": [
    "transform_data(torch.load(filename), 'arxiv', 2)"
   ]
  },
  {
   "cell_type": "code",
   "execution_count": null,
   "metadata": {},
   "outputs": [],
   "source": []
  }
 ],
 "metadata": {
  "interpreter": {
   "hash": "677f2394079a7e8b3a41116e0563f7f6e6b4c638366ce750dc9b1c63938d42b1"
  },
  "kernelspec": {
   "display_name": "Python 3.9.7 ('CPU_venv': venv)",
   "language": "python",
   "name": "python3"
  },
  "language_info": {
   "codemirror_mode": {
    "name": "ipython",
    "version": 3
   },
   "file_extension": ".py",
   "mimetype": "text/x-python",
   "name": "python",
   "nbconvert_exporter": "python",
   "pygments_lexer": "ipython3",
   "version": "3.9.7"
  },
  "orig_nbformat": 4
 },
 "nbformat": 4,
 "nbformat_minor": 2
}
